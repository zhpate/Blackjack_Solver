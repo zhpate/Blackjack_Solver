{
 "cells": [
  {
   "cell_type": "code",
   "execution_count": 6,
   "metadata": {},
   "outputs": [],
   "source": [
    "#dict of optimal play\n",
    "#set up as hard/soft[score][dealer up card]\n",
    "\n",
    "#hard = 0, soft = 1"
   ]
  },
  {
   "cell_type": "code",
   "execution_count": 22,
   "metadata": {},
   "outputs": [],
   "source": [
    "optimal_play_dict = {\n",
    "    0 : {\n",
    "        20 : {\n",
    "           2:0, 3:0, 4:0, 5:0, 6:0, 7:0, 8:0, 9:0, 10:0, 'J':0, 'Q':0, 'K':0, 'A':0 \n",
    "        },\n",
    "        19 : {\n",
    "           2:0, 3:0, 4:0, 5:0, 6:0, 7:0, 8:0, 9:0, 10:0, 'J':0, 'Q':0, 'K':0, 'A':0 \n",
    "        },\n",
    "        18 : {\n",
    "           2:0, 3:0, 4:0, 5:0, 6:0, 7:0, 8:0, 9:0, 10:0, 'J':0, 'Q':0, 'K':0, 'A':0 \n",
    "        },\n",
    "        17 : {\n",
    "           2:0, 3:0, 4:0, 5:0, 6:0, 7:0, 8:0, 9:0, 10:0, 'J':0, 'Q':0, 'K':0, 'A':0 \n",
    "        },\n",
    "        16 : {\n",
    "           2:0, 3:0, 4:0, 5:0, 6:0, 7:1, 8:1, 9:1, 10:1, 'J':1, 'Q':1, 'K':1, 'A':1 \n",
    "        },\n",
    "        15 : {\n",
    "           2:0, 3:0, 4:0, 5:0, 6:0, 7:1, 8:1, 9:1, 10:1, 'J':1, 'Q':1, 'K':1, 'A':1 \n",
    "        },\n",
    "        14 : {\n",
    "           2:0, 3:0, 4:0, 5:0, 6:0, 7:1, 8:1, 9:1, 10:1, 'J':1, 'Q':1, 'K':1, 'A':1 \n",
    "        },\n",
    "        13 : {\n",
    "           2:0, 3:0, 4:0, 5:0, 6:0, 7:1, 8:1, 9:1, 10:1, 'J':1, 'Q':1, 'K':1, 'A':1 \n",
    "        },\n",
    "        12 : {\n",
    "           2:1, 3:1, 4:0, 5:0, 6:0, 7:1, 8:1, 9:1, 10:1, 'J':1, 'Q':1, 'K':1, 'A':1 \n",
    "        },\n",
    "        11 : {\n",
    "           2:2, 3:2, 4:2, 5:2, 6:2, 7:2, 8:2, 9:2, 10:2, 'J':2, 'Q':2, 'K':2, 'A':2 \n",
    "        },\n",
    "        10 : {\n",
    "           2:2, 3:2, 4:2, 5:2, 6:2, 7:2, 8:2, 9:2, 10:2, 'J':2, 'Q':2, 'K':1, 'A':1 \n",
    "        },\n",
    "        9 : {\n",
    "           2:1, 3:2, 4:2, 5:2, 6:2, 7:1, 8:1, 9:1, 10:1, 'J':1, 'Q':1, 'K':1, 'A':1 \n",
    "        },\n",
    "    },\n",
    "    1 : {\n",
    "        20 : {\n",
    "           2:0, 3:0, 4:0, 5:0, 6:0, 7:0, 8:0, 9:0, 10:0, 'J':0, 'Q':0, 'K':0, 'A':0 \n",
    "        },\n",
    "        19 : {\n",
    "           2:0, 3:0, 4:0, 5:0, 6:0, 7:0, 8:0, 9:0, 10:0, 'J':0, 'Q':0, 'K':0, 'A':0 \n",
    "        },\n",
    "        18 : {\n",
    "           2:0, 3:0, 4:0, 5:0, 6:0, 7:0, 8:0, 9:1, 10:1, 'J':1, 'Q':1, 'K':1, 'A':1 \n",
    "        },\n",
    "        17 : {\n",
    "           2:1, 3:2, 4:2, 5:2, 6:2, 7:1, 8:1, 9:1, 10:1, 'J':1, 'Q':1, 'K':1, 'A':1 \n",
    "        },\n",
    "        16 : {\n",
    "           2:1, 3:2, 4:2, 5:2, 6:2, 7:1, 8:1, 9:1, 10:1, 'J':1, 'Q':1, 'K':1, 'A':1 \n",
    "        },\n",
    "        15 : {\n",
    "           2:1, 3:2, 4:1, 5:2, 6:2, 7:1, 8:1, 9:1, 10:1, 'J':1, 'Q':1, 'K':1, 'A':1 \n",
    "        },\n",
    "        14 : {\n",
    "           2:1, 3:1, 4:1, 5:2, 6:2, 7:1, 8:1, 9:1, 10:1, 'J':1, 'Q':1, 'K':1, 'A':1 \n",
    "        },\n",
    "        13 : {\n",
    "           2:1, 3:1, 4:1, 5:1, 6:2, 7:1, 8:1, 9:1, 10:1, 'J':1, 'Q':1, 'K':1, 'A':1 \n",
    "        },\n",
    "}}"
   ]
  },
  {
   "cell_type": "code",
   "execution_count": 24,
   "metadata": {},
   "outputs": [],
   "source": [
    "import json\n",
    "with open(\"optimal_play.json\", 'w') as outfile:\n",
    "    json.dump(optimal_play_dict, outfile)\n"
   ]
  },
  {
   "cell_type": "code",
   "execution_count": 25,
   "metadata": {},
   "outputs": [],
   "source": [
    "with open(\"optimal_play.json\", 'r') as file:\n",
    "    data = json.load(file)\n",
    "\n"
   ]
  },
  {
   "cell_type": "code",
   "execution_count": 30,
   "metadata": {},
   "outputs": [
    {
     "data": {
      "text/plain": [
       "{'2': 0,\n",
       " '3': 0,\n",
       " '4': 0,\n",
       " '5': 0,\n",
       " '6': 0,\n",
       " '7': 1,\n",
       " '8': 1,\n",
       " '9': 1,\n",
       " '10': 1,\n",
       " 'J': 1,\n",
       " 'Q': 1,\n",
       " 'K': 1,\n",
       " 'A': 1}"
      ]
     },
     "execution_count": 30,
     "metadata": {},
     "output_type": "execute_result"
    }
   ],
   "source": [
    "data[\"0\"][\"15\"]"
   ]
  },
  {
   "cell_type": "code",
   "execution_count": null,
   "metadata": {},
   "outputs": [],
   "source": []
  },
  {
   "cell_type": "code",
   "execution_count": null,
   "metadata": {},
   "outputs": [],
   "source": []
  },
  {
   "cell_type": "code",
   "execution_count": null,
   "metadata": {},
   "outputs": [],
   "source": []
  },
  {
   "cell_type": "code",
   "execution_count": null,
   "metadata": {},
   "outputs": [],
   "source": []
  },
  {
   "cell_type": "code",
   "execution_count": null,
   "metadata": {},
   "outputs": [],
   "source": []
  },
  {
   "cell_type": "code",
   "execution_count": null,
   "metadata": {},
   "outputs": [],
   "source": []
  },
  {
   "cell_type": "code",
   "execution_count": null,
   "metadata": {},
   "outputs": [],
   "source": []
  },
  {
   "cell_type": "code",
   "execution_count": null,
   "metadata": {},
   "outputs": [],
   "source": []
  }
 ],
 "metadata": {
  "kernelspec": {
   "display_name": "base",
   "language": "python",
   "name": "python3"
  },
  "language_info": {
   "codemirror_mode": {
    "name": "ipython",
    "version": 3
   },
   "file_extension": ".py",
   "mimetype": "text/x-python",
   "name": "python",
   "nbconvert_exporter": "python",
   "pygments_lexer": "ipython3",
   "version": "3.9.12"
  }
 },
 "nbformat": 4,
 "nbformat_minor": 2
}
