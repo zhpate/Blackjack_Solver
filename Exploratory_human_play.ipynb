{
 "cells": [
  {
   "cell_type": "markdown",
   "metadata": {},
   "source": [
    "TSis notebook is used to explore concepts around Blackjack as I set up functions and models"
   ]
  },
  {
   "cell_type": "code",
   "execution_count": null,
   "metadata": {},
   "outputs": [],
   "source": [
    "import numpy\n",
    "import random\n"
   ]
  },
  {
   "cell_type": "code",
   "execution_count": 123,
   "metadata": {},
   "outputs": [
    {
     "data": {
      "text/plain": [
       "'\\ndef win_condition(dealer_hand, player_hand):\\n    if player_hand > 21:\\n        return 0\\n    elif dealer_han\\n    elif player_hand <= 21 and dealer_hand \\n'"
      ]
     },
     "execution_count": 123,
     "metadata": {},
     "output_type": "execute_result"
    }
   ],
   "source": [
    "#create set of cards\n",
    "\n",
    "def generate_deck(num_of_decks):\n",
    "    deck_of_cards = [\n",
    "        \"AS\", \"KS\", \"QS\", \"JS\", \"10S\", \"9S\", \"8S\", \"7S\", \"6S\", \"5S\", \"4S\", \"3S\", \"2S\",\n",
    "        \"AD\", \"KD\", \"QD\", \"JD\", \"10D\", \"9D\", \"8D\", \"7D\", \"6D\", \"5D\", \"4D\", \"3D\", \"2D\",\n",
    "        \"AC\", \"KC\", \"QC\", \"JC\", \"10C\", \"9C\", \"8C\", \"7C\", \"6C\", \"5C\", \"4C\", \"3C\", \"2C\",\n",
    "        \"AH\", \"KH\", \"QH\", \"JH\", \"10H\", \"9H\", \"8H\", \"7H\", \"6H\", \"5H\", \"4H\", \"3H\", \"2H\",\n",
    "    ]\n",
    "\n",
    "    shoe = deck_of_cards * num_of_decks\n",
    "    return shoe\n",
    "\n",
    "def deal_from_deck(current_cards, shoe, num_of_cards):\n",
    "    for i in range(num_of_cards):\n",
    "        drawn_card = random.sample(shoe, 1)\n",
    "        current_cards += drawn_card\n",
    "        shoe.remove(drawn_card[0])\n",
    "    return current_cards, shoe\n",
    "\n",
    "#create a function that counts a players hand, and evaluates ace\n",
    "def count_hand(hand):\n",
    "    hand_score = 0\n",
    "    aces_present = 0\n",
    "    aces_used = 0\n",
    "\n",
    "    for card in hand:\n",
    "        card = card[:-1]\n",
    "        if card in [\"K\", \"Q\", \"J\"]:\n",
    "            hand_score += 10\n",
    "        elif card != 'A':\n",
    "            hand_score += int(card)\n",
    "        elif card == 'A':\n",
    "            aces_present += 1\n",
    "            hand_score += 11\n",
    "\n",
    "    while hand_score > 21 and aces_present > 0 and aces_used != aces_present:\n",
    "        hand_score -= 10\n",
    "        aces_used += 1\n",
    "\n",
    "    return hand_score\n",
    "\n",
    "def check_for_split(player_hand): #use later\n",
    "    return len(player_hand) == 2 and player_hand[0][0] == player_hand[1][0]\n",
    "\n",
    "\n",
    "def choose_action(number_of_actions = 0):\n",
    "    #creating simple version \n",
    "    verified_action = None\n",
    "    while verified_action == None:\n",
    "        action = input(\"H, S\") \n",
    "        if str(action)[0].lower() == 'h':\n",
    "            verified_action = 'hit'\n",
    "        elif str(action)[0].lower() == 's':\n",
    "            verified_action = 'stand'\n",
    "        else:\n",
    "            print(\"Incorrect response, try again\")\n",
    "    return verified_action\n",
    "\n",
    "def print_hand_state(player_hand, dealer_hand, pre_hand = True):\n",
    "    print('Player Cards:' , player_hand)\n",
    "    print(\"Player Count:\" , count_hand(player_hand))\n",
    "    if pre_hand == True:\n",
    "        print('Dealer Shows:', dealer_hand[0][0])\n",
    "    else:\n",
    "        print('Dealer Cards:' , dealer_hand)\n",
    "        print(\"Dealer Count:\" , count_hand(dealer_hand))\n",
    "\n",
    "\n",
    "\n",
    "'''\n",
    "def win_condition(dealer_hand, player_hand):\n",
    "    if player_hand > 21:\n",
    "        return 0\n",
    "    elif dealer_han\n",
    "    elif player_hand <= 21 and dealer_hand \n",
    "'''"
   ]
  },
  {
   "cell_type": "code",
   "execution_count": 135,
   "metadata": {},
   "outputs": [],
   "source": [
    "#above this would require chips + ensuring shoe at least 25% full\n",
    "def play_hand(shoe, print_cards = True):\n",
    "    print(\"New Hand\")\n",
    "    dealer, shoe = deal_from_deck([], shoe, 2)\n",
    "    dealer_first_card = dealer[0][0]\n",
    "    player, shoe = deal_from_deck([], shoe, 2)\n",
    "    print(player, dealer)\n",
    "\n",
    "    while count_hand(player) < 21:\n",
    "        if print_cards == True:  \n",
    "            print_hand_state(player, dealer)\n",
    "        action = choose_action()\n",
    "        if action == 'hit':\n",
    "            player, shoe = deal_from_deck(player, shoe, 1)            \n",
    "            print(player)\n",
    "        elif action == 'stand':\n",
    "            break\n",
    "\n",
    "    #dealer action, no hit on 17\n",
    "    print(dealer)\n",
    "    while count_hand(dealer) < 21:\n",
    "        dealer_score = count_hand(dealer)\n",
    "        if dealer_score >= 17:\n",
    "            break\n",
    "        else:\n",
    "            dealer, shoe = deal_from_deck(dealer, shoe, 1)\n",
    "\n",
    "    if print_cards == True: \n",
    "        print(\"final score\") \n",
    "        print_hand_state(player, dealer, pre_hand = False)\n",
    "\n",
    "    #win condition\n",
    "    dealer_score, player_score = count_hand(dealer), count_hand(player)\n",
    "    if player_score > 21:\n",
    "        return 0\n",
    "    elif dealer_score > 21:\n",
    "        return 2\n",
    "    elif player_score < dealer_score:\n",
    "        return 0\n",
    "    elif player_score == dealer_score:\n",
    "        return 1\n",
    "    elif player_score > dealer_score:\n",
    "        return 2\n"
   ]
  },
  {
   "cell_type": "code",
   "execution_count": 136,
   "metadata": {},
   "outputs": [],
   "source": [
    "def session_init(num_of_decks):\n",
    "    shoe = generate_deck(num_of_decks)\n",
    "    shoe_at_max_size = len(shoe)\n",
    "\n",
    "    win_count, tie_count, loss_count = 0,0,0\n",
    "\n",
    "    while len(shoe) / shoe_at_max_size > .25:\n",
    "        result = play_hand(shoe)\n",
    "        if result == 2:\n",
    "            win_count += 1\n",
    "        elif result == 1:\n",
    "            tie_count += 1\n",
    "        elif result == 0:\n",
    "            loss_count += 1\n",
    "        print(\"Wins:\" , win_count)\n",
    "        print(\"Ties:\" , tie_count)\n",
    "        print(\"Losses:\" , loss_count)\n",
    "\n",
    "    print(\"Shoe empty, play again?\")\n",
    "    \n",
    "\n"
   ]
  },
  {
   "cell_type": "code",
   "execution_count": 137,
   "metadata": {},
   "outputs": [
    {
     "name": "stdout",
     "output_type": "stream",
     "text": [
      "New Hand\n",
      "['JH', 'JC'] ['2D', '2H']\n",
      "Player Cards: ['JH', 'JC']\n",
      "Player Count: 20\n",
      "Dealer Shows: 2\n",
      "['2D', '2H']\n",
      "final score\n",
      "Player Cards: ['JH', 'JC']\n",
      "Player Count: 20\n",
      "Dealer Cards: ['2D', '2H', 'QD', 'KH']\n",
      "Dealer Count: 24\n",
      "New Hand\n",
      "['6S', '9D'] ['4H', 'AH']\n",
      "Player Cards: ['6S', '9D']\n",
      "Player Count: 15\n",
      "Dealer Shows: 4\n"
     ]
    },
    {
     "ename": "IndexError",
     "evalue": "string index out of range",
     "output_type": "error",
     "traceback": [
      "\u001b[0;31m---------------------------------------------------------------------------\u001b[0m",
      "\u001b[0;31mIndexError\u001b[0m                                Traceback (most recent call last)",
      "Input \u001b[0;32mIn [137]\u001b[0m, in \u001b[0;36m<cell line: 1>\u001b[0;34m()\u001b[0m\n\u001b[0;32m----> 1\u001b[0m \u001b[43msession_init\u001b[49m\u001b[43m(\u001b[49m\u001b[38;5;241;43m1\u001b[39;49m\u001b[43m)\u001b[49m\n",
      "Input \u001b[0;32mIn [136]\u001b[0m, in \u001b[0;36msession_init\u001b[0;34m(num_of_decks)\u001b[0m\n\u001b[1;32m      5\u001b[0m win_count, tie_count, loss_count \u001b[38;5;241m=\u001b[39m \u001b[38;5;241m0\u001b[39m,\u001b[38;5;241m0\u001b[39m,\u001b[38;5;241m0\u001b[39m\n\u001b[1;32m      7\u001b[0m \u001b[38;5;28;01mwhile\u001b[39;00m \u001b[38;5;28mlen\u001b[39m(shoe) \u001b[38;5;241m/\u001b[39m shoe_at_max_size \u001b[38;5;241m>\u001b[39m \u001b[38;5;241m.25\u001b[39m:\n\u001b[0;32m----> 8\u001b[0m     result \u001b[38;5;241m=\u001b[39m \u001b[43mplay_hand\u001b[49m\u001b[43m(\u001b[49m\u001b[43mshoe\u001b[49m\u001b[43m)\u001b[49m\n\u001b[1;32m      9\u001b[0m     \u001b[38;5;28;01mif\u001b[39;00m result \u001b[38;5;241m==\u001b[39m \u001b[38;5;241m2\u001b[39m:\n\u001b[1;32m     10\u001b[0m         win_count \u001b[38;5;241m+\u001b[39m\u001b[38;5;241m=\u001b[39m \u001b[38;5;241m1\u001b[39m\n",
      "Input \u001b[0;32mIn [135]\u001b[0m, in \u001b[0;36mplay_hand\u001b[0;34m(shoe, print_cards)\u001b[0m\n\u001b[1;32m     10\u001b[0m \u001b[38;5;28;01mif\u001b[39;00m print_cards \u001b[38;5;241m==\u001b[39m \u001b[38;5;28;01mTrue\u001b[39;00m:  \n\u001b[1;32m     11\u001b[0m     print_hand_state(player, dealer)\n\u001b[0;32m---> 12\u001b[0m action \u001b[38;5;241m=\u001b[39m \u001b[43mchoose_action\u001b[49m\u001b[43m(\u001b[49m\u001b[43m)\u001b[49m\n\u001b[1;32m     13\u001b[0m \u001b[38;5;28;01mif\u001b[39;00m action \u001b[38;5;241m==\u001b[39m \u001b[38;5;124m'\u001b[39m\u001b[38;5;124mhit\u001b[39m\u001b[38;5;124m'\u001b[39m:\n\u001b[1;32m     14\u001b[0m     player, shoe \u001b[38;5;241m=\u001b[39m deal_from_deck(player, shoe, \u001b[38;5;241m1\u001b[39m)            \n",
      "Input \u001b[0;32mIn [123]\u001b[0m, in \u001b[0;36mchoose_action\u001b[0;34m(number_of_actions)\u001b[0m\n\u001b[1;32m     50\u001b[0m \u001b[38;5;28;01mwhile\u001b[39;00m verified_action \u001b[38;5;241m==\u001b[39m \u001b[38;5;28;01mNone\u001b[39;00m:\n\u001b[1;32m     51\u001b[0m     action \u001b[38;5;241m=\u001b[39m \u001b[38;5;28minput\u001b[39m(\u001b[38;5;124m\"\u001b[39m\u001b[38;5;124mH, S\u001b[39m\u001b[38;5;124m\"\u001b[39m) \n\u001b[0;32m---> 52\u001b[0m     \u001b[38;5;28;01mif\u001b[39;00m \u001b[38;5;28;43mstr\u001b[39;49m\u001b[43m(\u001b[49m\u001b[43maction\u001b[49m\u001b[43m)\u001b[49m\u001b[43m[\u001b[49m\u001b[38;5;241;43m0\u001b[39;49m\u001b[43m]\u001b[49m\u001b[38;5;241m.\u001b[39mlower() \u001b[38;5;241m==\u001b[39m \u001b[38;5;124m'\u001b[39m\u001b[38;5;124mh\u001b[39m\u001b[38;5;124m'\u001b[39m:\n\u001b[1;32m     53\u001b[0m         verified_action \u001b[38;5;241m=\u001b[39m \u001b[38;5;124m'\u001b[39m\u001b[38;5;124mhit\u001b[39m\u001b[38;5;124m'\u001b[39m\n\u001b[1;32m     54\u001b[0m     \u001b[38;5;28;01melif\u001b[39;00m \u001b[38;5;28mstr\u001b[39m(action)[\u001b[38;5;241m0\u001b[39m]\u001b[38;5;241m.\u001b[39mlower() \u001b[38;5;241m==\u001b[39m \u001b[38;5;124m'\u001b[39m\u001b[38;5;124ms\u001b[39m\u001b[38;5;124m'\u001b[39m:\n",
      "\u001b[0;31mIndexError\u001b[0m: string index out of range"
     ]
    }
   ],
   "source": [
    "session_init(1)"
   ]
  },
  {
   "cell_type": "code",
   "execution_count": null,
   "metadata": {},
   "outputs": [],
   "source": []
  }
 ],
 "metadata": {
  "kernelspec": {
   "display_name": "base",
   "language": "python",
   "name": "python3"
  },
  "language_info": {
   "name": "python",
   "version": "3.9.12"
  }
 },
 "nbformat": 4,
 "nbformat_minor": 2
}
